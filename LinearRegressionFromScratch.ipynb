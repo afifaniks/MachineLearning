{
 "cells": [
  {
   "cell_type": "markdown",
   "metadata": {},
   "source": [
    "# <span style=\"color:green;\">Linear Regression from Scratch</span>"
   ]
  },
  {
   "cell_type": "code",
   "execution_count": 142,
   "metadata": {},
   "outputs": [],
   "source": [
    "#Global Variables\n",
    "m = 0.0\n",
    "c = 0.0\n",
    "yBar = 0.0\n",
    "xBar = 0.0"
   ]
  },
  {
   "cell_type": "code",
   "execution_count": 143,
   "metadata": {},
   "outputs": [],
   "source": [
    "def bestFit(independent, dependent):\n",
    "    xy = []\n",
    "    xSq = []\n",
    "    xyBar = 0.0\n",
    "    xSqBar = 0.0\n",
    "    global xBar\n",
    "    global yBar\n",
    "    \n",
    "    n = len(independent)\n",
    "    \n",
    "    for i in range(n):\n",
    "        ind = float(independent[i])\n",
    "        dep = float(dependent[i])\n",
    "        xy.append(ind * dep)\n",
    "        xSq.append(ind**2)\n",
    "        xBar += ind\n",
    "        yBar += dep\n",
    "        \n",
    "    for i in range(n):\n",
    "        xyBar += float(xy[i])\n",
    "        xSqBar += float(xSq[i])\n",
    "    \n",
    "    xBar /= n\n",
    "    yBar /= n\n",
    "    xyBar /= n\n",
    "    xSqBar /= n\n",
    "    \n",
    "    global m\n",
    "    m = ((xBar * yBar) - xyBar) / (xBar**2 - xSqBar)\n",
    "    global c\n",
    "    c = yBar - (m * xBar)\n",
    "    \n",
    "    print(m, c)"
   ]
  },
  {
   "cell_type": "code",
   "execution_count": 144,
   "metadata": {},
   "outputs": [],
   "source": [
    "def objFunction(x):\n",
    "    return m*x + c"
   ]
  },
  {
   "cell_type": "code",
   "execution_count": 145,
   "metadata": {},
   "outputs": [],
   "source": [
    "def rSquaredValue(ind, dep):\n",
    "    r = 0.0\n",
    "    \n",
    "    numerator = 0.0\n",
    "    denom = 0.0\n",
    "    \n",
    "    for i in range(len(dep)):\n",
    "        numerator += (objFunction(ind[i]) - yBar)**2\n",
    "        denom += (dep[i] - yBar)**2\n",
    "    r = numerator/denom\n",
    "    print(\"Accuracy: \", r*100, \"%\")"
   ]
  },
  {
   "cell_type": "code",
   "execution_count": 146,
   "metadata": {},
   "outputs": [],
   "source": [
    "def cost(ind, dep):\n",
    "    size = len(ind)\n",
    "    \n",
    "    totalCost = 0.0\n",
    "    \n",
    "    for x in range(size):\n",
    "            predicted = predictedValue(nd[x])\n",
    "            totalCost += (predicted - dep[x])**2\n",
    "    \n",
    "    print(totalCost/(2*size))"
   ]
  },
  {
   "cell_type": "code",
   "execution_count": 147,
   "metadata": {},
   "outputs": [
    {
     "name": "stdout",
     "output_type": "stream",
     "text": [
      "96.02739726027389 -6.506849315067484\n",
      "Accuracy:  99.40683984524085 %\n"
     ]
    }
   ],
   "source": [
    "x = [4, 8, 12, 14, 18]\n",
    "y = [350, 775, 1150, 1395, 1675]\n",
    "\n",
    "bestFit(x, y)\n",
    "rSquaredValue(x, y)"
   ]
  }
 ],
 "metadata": {
  "celltoolbar": "Raw Cell Format",
  "kernelspec": {
   "display_name": "Python 3",
   "language": "python",
   "name": "python3"
  },
  "language_info": {
   "codemirror_mode": {
    "name": "ipython",
    "version": 3
   },
   "file_extension": ".py",
   "mimetype": "text/x-python",
   "name": "python",
   "nbconvert_exporter": "python",
   "pygments_lexer": "ipython3",
   "version": "3.6.5"
  }
 },
 "nbformat": 4,
 "nbformat_minor": 2
}
